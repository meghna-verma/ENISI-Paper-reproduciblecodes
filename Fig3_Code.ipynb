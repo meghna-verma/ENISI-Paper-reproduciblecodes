{
 "cells": [
  {
   "cell_type": "markdown",
   "metadata": {},
   "source": [
    "# Fig 3"
   ]
  },
  {
   "cell_type": "markdown",
   "metadata": {},
   "source": [
    "# Stage 1 Analysis\n",
    "#### Partial rank correlation coefficient analysis (PRCC) - regression based analysis code\n",
    "\n",
    "### Step 1: Input preparation "
   ]
  },
  {
   "cell_type": "code",
   "execution_count": 1,
   "metadata": {},
   "outputs": [],
   "source": [
    "#####NIMML######\n",
    "### Author: Meghna Verma\n",
    "### Date : August 10, 2017\n",
    "\n",
    "#Set it to the directory that has all the csv files obatined after converting the tsv file outptus from hybrid computer model\n",
    "\n",
    "path <- \"/Volumes/Computer Backup/NIMML/Project_NameENISIMSM/data/Fig3-data/HP_LP\"\n",
    "setwd(path)"
   ]
  },
  {
   "cell_type": "code",
   "execution_count": 2,
   "metadata": {},
   "outputs": [
    {
     "data": {
      "text/html": [
       "'/Volumes/Computer Backup/NIMML/Project_NameENISIMSM/data/Fig3-data/HP_LP'"
      ],
      "text/latex": [
       "'/Volumes/Computer Backup/NIMML/Project\\_NameENISIMSM/data/Fig3-data/HP\\_LP'"
      ],
      "text/markdown": [
       "'/Volumes/Computer Backup/NIMML/Project_NameENISIMSM/data/Fig3-data/HP_LP'"
      ],
      "text/plain": [
       "[1] \"/Volumes/Computer Backup/NIMML/Project_NameENISIMSM/data/Fig3-data/HP_LP\""
      ]
     },
     "metadata": {},
     "output_type": "display_data"
    }
   ],
   "source": [
    "getwd()"
   ]
  },
  {
   "cell_type": "code",
   "execution_count": 3,
   "metadata": {},
   "outputs": [
    {
     "name": "stderr",
     "output_type": "stream",
     "text": [
      "Loading required package: MASS\n",
      "Warning message:\n",
      "“package ‘MASS’ was built under R version 3.3.2”Loading required package: minpack.lm\n",
      "Warning message:\n",
      "“package ‘minpack.lm’ was built under R version 3.3.2”Loading required package: rgl\n",
      "Warning message:\n",
      "“package ‘rgl’ was built under R version 3.3.2”Loading required package: robustbase\n",
      "Warning message:\n",
      "“package ‘robustbase’ was built under R version 3.3.2”Loading required package: Matrix\n",
      "Warning message:\n",
      "“package ‘Matrix’ was built under R version 3.3.2”"
     ]
    }
   ],
   "source": [
    "library(\"qpcR\")\n",
    "\n",
    "## Reading all csv files ##\n",
    "temp = list.files(pattern=\"*.csv\")\n",
    "\n",
    "LP_HP = read.csv(temp[1], header = FALSE)\n",
    "LP_HP = LP_HP[,2];\n",
    "\n",
    "for (i in 2:length(temp))\n",
    "{\n",
    "  file_one <- read.csv(temp[i],header = FALSE)\n",
    "  file_one <- file_one[,2]\n",
    "  \n",
    "  # This pads NA to the rows that are shorter than rest #\n",
    "  LP_HP <- qpcR:::cbind.na(LP_HP, file_one)\n",
    "}\n",
    "\n",
    "df_LP_HP <- data.frame(LP_HP)\n"
   ]
  },
  {
   "cell_type": "code",
   "execution_count": 4,
   "metadata": {},
   "outputs": [],
   "source": [
    "write.csv(df_LP_HP, \"/Volumes/Computer Backup/NIMML/Project_NameENISIMSM/data/Fig3-data/HP_LP/New/HP_LP_input.csv\")"
   ]
  },
  {
   "cell_type": "markdown",
   "metadata": {},
   "source": [
    "### Clustering "
   ]
  },
  {
   "cell_type": "code",
   "execution_count": 5,
   "metadata": {},
   "outputs": [
    {
     "name": "stderr",
     "output_type": "stream",
     "text": [
      "Warning message:\n",
      "“package ‘e1071’ was built under R version 3.3.2”"
     ]
    }
   ],
   "source": [
    "## Cmeans clustering ##\n",
    "library(e1071)\n",
    "\n",
    "input_tobeclustered2 <- read.csv(\"/Volumes/Computer Backup/NIMML/Project_NameENISIMSM/data/Fig3-data/HP_LP/New/HP_LP_input.csv\", sep=\",\", header = TRUE)\n",
    "input_tobeclustered2 <- input_tobeclustered2[,-1] \n",
    "input_tobeclustered <- t(input_tobeclustered2)\n",
    "transposed <- input_tobeclustered\n",
    "\n",
    "transposed[is.na(transposed)] <- 0\n",
    "\n",
    "clustered_data<-cmeans(transposed, 3, iter.max = 100, verbose = FALSE, dist = \"euclidean\",\n",
    "                       method = \"cmeans\", m = 2, rate.par = NULL, weights = 1)\n",
    "\n",
    "write.csv(clustered_data$cluster, \"/Volumes/Computer Backup/NIMML/Project_NameENISIMSM/data/Fig3-data/HP_LP/New/HP_LP_clusters_numbers.csv\")\n",
    "write.csv(clustered_data$membership, \"/Volumes/Computer Backup/NIMML/Project_NameENISIMSM/data/Fig3-data/HP_LP/New/HP_LPclusters.csv\")"
   ]
  },
  {
   "cell_type": "markdown",
   "metadata": {},
   "source": [
    "### Raw data\n",
    "\n",
    "#### Input file: \n",
    "1. Cluster csv (number) 'likelihood' file obtained from the above clustering code\n",
    "2. Parameter design file\n",
    "3. All .csv files with avg values\n",
    "4. Corresponding cells file \n",
    "\n",
    "#### Output file: \n",
    "1. Csv files that are clustered in different sets\n",
    "   \n"
   ]
  },
  {
   "cell_type": "code",
   "execution_count": 6,
   "metadata": {},
   "outputs": [
    {
     "name": "stderr",
     "output_type": "stream",
     "text": [
      "Warning message:\n",
      "“package ‘readr’ was built under R version 3.3.2”Warning message:\n",
      "“Missing column names filled in: 'X1' [1]”Parsed with column specification:\n",
      "cols(\n",
      "  .default = col_double(),\n",
      "  X1 = col_integer()\n",
      ")\n",
      "See spec(...) for full column specifications.\n"
     ]
    }
   ],
   "source": [
    "# Create empty variables to be filled up\n",
    "cluster1 = vector(); \n",
    "cluster2 = vector();\n",
    "cluster3 = vector();\n",
    " \n",
    "#install.packages(\"readr\")\n",
    "library(readr)\n",
    "\n",
    "dataset <- read_csv(\"/Volumes/Computer Backup/NIMML/Project_NameENISIMSM/data/Fig3-data/HP_LP/New/HP_LP_clusters_numbers.csv\",col_types = cols(X1 = col_character()))\n",
    "\n",
    "Parameters<- read_csv(\"/Volumes/Computer Backup/NIMML/Project_NameENISIMSM/data/Fig3-data/Parameters.csv\", col_names = FALSE)\n",
    "\n",
    "# \n",
    "sorted <- dataset[with(dataset, order(x)),]\n",
    "# \n",
    "index <- sort.int(dataset$x, index.return = TRUE)\n",
    "# \n",
    "for (i in 1:152)\n",
    "{\n",
    "   if (sorted$x[i] == 1)\n",
    "   {\n",
    "     cluster1 <- rbind (cluster1,index$ix[i])\n",
    "   }\n",
    "   else if (sorted$x[i] == 2)\n",
    "   {\n",
    "     cluster2 <- rbind (cluster2,index$ix[i])\n",
    "   }\n",
    "   else\n",
    "   {\n",
    "     cluster3 <- rbind (cluster3,index$ix[i])\n",
    "   }\n",
    " }\n",
    "\n",
    "# # Make vectors of names of csv files that correspond to the clustered sets.\n",
    " cluster1_files <- vector()\n",
    " cluster2_files <- vector()\n",
    " cluster3_files <- vector()\n",
    "# \n",
    "para1_files <- vector()\n",
    "para2_files <- vector()\n",
    "para3_files <- vector()\n",
    " \n",
    "temp = list.files(pattern=\"*.csv\")\n",
    "\n",
    "Corresponding_cells <- read.csv(\"/Volumes/Computer Backup/NIMML/Project_NameENISIMSM/data/Fig3-data/Correponding_cells.csv\")\n",
    "\n",
    "SAMPLE1 <- Corresponding_cells\n",
    "sorted_matlab <- sort.int(SAMPLE1$MATLAB, index.return = TRUE)\n",
    "\n",
    "for (j in 1:length(cluster1))\n",
    " {\n",
    "\n",
    "   cluster1_files <- rbind (cluster1_files, temp[cluster1[j]])\n",
    "   para1_files <- rbind(para1_files, Parameters[sorted_matlab$ix[cluster1[j]],])\n",
    " }\n",
    "for (k in 1:length(cluster2))\n",
    " {\n",
    " \n",
    "  cluster2_files <- rbind (cluster2_files, temp[cluster2[k]])\n",
    "   para2_files <- rbind(para2_files, Parameters[sorted_matlab$ix[cluster2[k]],])\n",
    " }\n",
    " \n",
    "for (l in 1:length(cluster3))\n",
    " {\n",
    "\n",
    "   cluster3_files <- rbind (cluster3_files, temp[cluster3[l]])\n",
    "   para3_files <- rbind(para3_files, Parameters[sorted_matlab$ix[cluster3[l]],]) \n",
    "}\n"
   ]
  },
  {
   "cell_type": "markdown",
   "metadata": {},
   "source": [
    "### Step 2 : Preparing the dataset for partial rank correlation coefficient analyses (PRCC)"
   ]
  },
  {
   "cell_type": "code",
   "execution_count": 8,
   "metadata": {},
   "outputs": [],
   "source": [
    "\n",
    "para1_patterns <- para1_files\n",
    "para2_patterns <- para2_files\n",
    "para3_patterns <- para3_files\n",
    "\n",
    "###Cluster 1 mean\n",
    "polmean1 <- rep(0,length(cluster1_files))\n",
    " for(i in 1:length(cluster1_files)){\n",
    "   data_my1 <- read.csv(cluster1_files[i],header=FALSE)\n",
    "   data_my1 <- data_my1[,2]\n",
    "   polmean1[i] <- mean(data_my1)\n",
    " }\n",
    "###Cluster 2 mean\n",
    " polmean2 <- rep(0,length(cluster2_files))\n",
    " for(i in 1:length(cluster2_files)){\n",
    "   data_my2 <- read.csv(cluster2_files[i],header=FALSE)\n",
    "   data_my2 <- data_my2[,2]\n",
    "   polmean2[i] <- mean(data_my2)\n",
    " }\n",
    "# \n",
    "###Cluster 3 mean\n",
    " polmean3 <- rep(0,length(cluster3_files))\n",
    " for(i in 1:length(cluster3_files))\n",
    "   {\n",
    "   data_my3 <- read.csv(cluster3_files[i],header=FALSE)\n",
    "   data_my3 <- data_my3[,2]\n",
    "   polmean3[i] <- mean(data_my3)\n",
    " }\n",
    "# \n",
    " para1_files$mean <- polmean1\n",
    " para2_files$mean <- polmean2\n",
    " para3_files$mean <- polmean3\n",
    "# \n",
    " x <- data.frame(para1_files)\n",
    " y <- data.frame(para2_files)\n",
    " z <- data.frame(para3_files)\n",
    "# \n",
    " indexes_info <- rbind(cluster1, cluster2, cluster3)\n",
    "# \n",
    " final <- rbind(x,y,z)\n",
    " \n",
    " #write.csv(final, file = '/Users/meghnaverma/Documents/MATLAB/NIMML/Round2_SA/ENISI_Avg/Mres_LP/Mres/Mres_LP_means.csv', row.names = FALSE)\n",
    " write.csv(final, file = '/Volumes/Computer Backup/NIMML/Project_NameENISIMSM/data/Fig3-data//HP_LP/HP_LP_means.csv', row.names = FALSE)\n"
   ]
  },
  {
   "cell_type": "markdown",
   "metadata": {},
   "source": [
    "### Code for PRCC "
   ]
  },
  {
   "cell_type": "code",
   "execution_count": 10,
   "metadata": {},
   "outputs": [],
   "source": [
    "data_LP_HP_main <- read.csv('/Volumes/Computer Backup/NIMML/Project_NameENISIMSM/data/Fig3-data/HP_LP/HP_LP_means.csv', header = TRUE)\n",
    "#data_LP_Mres_main <- <- read.csv('/Users/meghnaverma/Documents/MATLAB/NIMML/Round2_SA_Xi/ENISI_Avg/Mres_LP/New/Mres_LP_means.csv', header = TRUE)"
   ]
  },
  {
   "cell_type": "code",
   "execution_count": 11,
   "metadata": {},
   "outputs": [],
   "source": [
    "sorted_data_LPHP <- data_LP_HP_main[order(data_LP_HP_main$X1),] \n",
    "#sorted_data_LPMres <- data_LP_HP_main[order(data_LP_Mres_main$X1),]"
   ]
  },
  {
   "cell_type": "code",
   "execution_count": 12,
   "metadata": {},
   "outputs": [],
   "source": [
    "data_LP_HP <- data.frame(sorted_data_LPHP[,-1])\n",
    "data_LP_HP <- data.frame(data_LP_HP[,-39])\n",
    "#data_LP_Mres <- data.frame(sorted_data_LPMres[,-1])\n",
    "#data_LP_Mres <- data.frame(data_LP_Mres[,-39])"
   ]
  },
  {
   "cell_type": "code",
   "execution_count": 13,
   "metadata": {},
   "outputs": [
    {
     "data": {
      "text/html": [
       "<dl class=dl-horizontal>\n",
       "\t<dt>X2</dt>\n",
       "\t\t<dd>5.68236064926876e-17</dd>\n",
       "\t<dt>X3</dt>\n",
       "\t\t<dd>2.65766484112315e-16</dd>\n",
       "\t<dt>X4</dt>\n",
       "\t\t<dd>1.26657639055201e-16</dd>\n",
       "\t<dt>X5</dt>\n",
       "\t\t<dd>-3.17728299810489e-17</dd>\n",
       "\t<dt>X6</dt>\n",
       "\t\t<dd>-1.70756135839243e-16</dd>\n",
       "\t<dt>X7</dt>\n",
       "\t\t<dd>-7.50239371723851e-17</dd>\n",
       "\t<dt>X8</dt>\n",
       "\t\t<dd>4.96450468453889e-18</dd>\n",
       "\t<dt>X9</dt>\n",
       "\t\t<dd>-1.32455267514387e-16</dd>\n",
       "\t<dt>X10</dt>\n",
       "\t\t<dd>6.63988235739017e-17</dd>\n",
       "\t<dt>X11</dt>\n",
       "\t\t<dd>-1.54276262817464e-16</dd>\n",
       "\t<dt>X12</dt>\n",
       "\t\t<dd>-1.44026272542058e-16</dd>\n",
       "\t<dt>X13</dt>\n",
       "\t\t<dd>-7.30124568260633e-17</dd>\n",
       "\t<dt>X14</dt>\n",
       "\t\t<dd>1.14257789998301e-16</dd>\n",
       "\t<dt>X15</dt>\n",
       "\t\t<dd>1.37259995036665e-16</dd>\n",
       "\t<dt>X16</dt>\n",
       "\t\t<dd>2.67056114064851e-17</dd>\n",
       "\t<dt>X17</dt>\n",
       "\t\t<dd>1.3192172591898e-16</dd>\n",
       "\t<dt>X18</dt>\n",
       "\t\t<dd>1.67423640740656e-16</dd>\n",
       "\t<dt>X19</dt>\n",
       "\t\t<dd>1.83932045398554e-16</dd>\n",
       "\t<dt>X20</dt>\n",
       "\t\t<dd>2.57004418660465e-16</dd>\n",
       "\t<dt>X21</dt>\n",
       "\t\t<dd>1.82054663741987e-16</dd>\n",
       "\t<dt>X22</dt>\n",
       "\t\t<dd>-3.62494436879693e-17</dd>\n",
       "\t<dt>X23</dt>\n",
       "\t\t<dd>1.99264946648388e-16</dd>\n",
       "\t<dt>X24</dt>\n",
       "\t\t<dd>-1.2074017772432e-16</dd>\n",
       "\t<dt>X25</dt>\n",
       "\t\t<dd>-8.26846814700787e-18</dd>\n",
       "\t<dt>X26</dt>\n",
       "\t\t<dd>1.22252354438576e-16</dd>\n",
       "\t<dt>X27</dt>\n",
       "\t\t<dd>3.78272431652969e-17</dd>\n",
       "\t<dt>X28</dt>\n",
       "\t\t<dd>4.00983614002928e-17</dd>\n",
       "\t<dt>X29</dt>\n",
       "\t\t<dd>9.48534242744226e-17</dd>\n",
       "\t<dt>X30</dt>\n",
       "\t\t<dd>9.81260029371618e-17</dd>\n",
       "\t<dt>X31</dt>\n",
       "\t\t<dd>-9.82287168271867e-17</dd>\n",
       "\t<dt>X32</dt>\n",
       "\t\t<dd>6.02588154812996e-18</dd>\n",
       "\t<dt>X33</dt>\n",
       "\t\t<dd>-2.15699169052379e-18</dd>\n",
       "\t<dt>X34</dt>\n",
       "\t\t<dd>1.84713812228188e-17</dd>\n",
       "\t<dt>X35</dt>\n",
       "\t\t<dd>-7.33548364594798e-17</dd>\n",
       "\t<dt>X36</dt>\n",
       "\t\t<dd>-4.96450468453889e-18</dd>\n",
       "\t<dt>X37</dt>\n",
       "\t\t<dd>1.2091422070464e-16</dd>\n",
       "\t<dt>X38</dt>\n",
       "\t\t<dd>1.80776446443899e-17</dd>\n",
       "\t<dt>X39</dt>\n",
       "\t\t<dd>9.45138978046179e-17</dd>\n",
       "</dl>\n"
      ],
      "text/latex": [
       "\\begin{description*}\n",
       "\\item[X2] 5.68236064926876e-17\n",
       "\\item[X3] 2.65766484112315e-16\n",
       "\\item[X4] 1.26657639055201e-16\n",
       "\\item[X5] -3.17728299810489e-17\n",
       "\\item[X6] -1.70756135839243e-16\n",
       "\\item[X7] -7.50239371723851e-17\n",
       "\\item[X8] 4.96450468453889e-18\n",
       "\\item[X9] -1.32455267514387e-16\n",
       "\\item[X10] 6.63988235739017e-17\n",
       "\\item[X11] -1.54276262817464e-16\n",
       "\\item[X12] -1.44026272542058e-16\n",
       "\\item[X13] -7.30124568260633e-17\n",
       "\\item[X14] 1.14257789998301e-16\n",
       "\\item[X15] 1.37259995036665e-16\n",
       "\\item[X16] 2.67056114064851e-17\n",
       "\\item[X17] 1.3192172591898e-16\n",
       "\\item[X18] 1.67423640740656e-16\n",
       "\\item[X19] 1.83932045398554e-16\n",
       "\\item[X20] 2.57004418660465e-16\n",
       "\\item[X21] 1.82054663741987e-16\n",
       "\\item[X22] -3.62494436879693e-17\n",
       "\\item[X23] 1.99264946648388e-16\n",
       "\\item[X24] -1.2074017772432e-16\n",
       "\\item[X25] -8.26846814700787e-18\n",
       "\\item[X26] 1.22252354438576e-16\n",
       "\\item[X27] 3.78272431652969e-17\n",
       "\\item[X28] 4.00983614002928e-17\n",
       "\\item[X29] 9.48534242744226e-17\n",
       "\\item[X30] 9.81260029371618e-17\n",
       "\\item[X31] -9.82287168271867e-17\n",
       "\\item[X32] 6.02588154812996e-18\n",
       "\\item[X33] -2.15699169052379e-18\n",
       "\\item[X34] 1.84713812228188e-17\n",
       "\\item[X35] -7.33548364594798e-17\n",
       "\\item[X36] -4.96450468453889e-18\n",
       "\\item[X37] 1.2091422070464e-16\n",
       "\\item[X38] 1.80776446443899e-17\n",
       "\\item[X39] 9.45138978046179e-17\n",
       "\\end{description*}\n"
      ],
      "text/markdown": [
       "X2\n",
       ":   5.68236064926876e-17X3\n",
       ":   2.65766484112315e-16X4\n",
       ":   1.26657639055201e-16X5\n",
       ":   -3.17728299810489e-17X6\n",
       ":   -1.70756135839243e-16X7\n",
       ":   -7.50239371723851e-17X8\n",
       ":   4.96450468453889e-18X9\n",
       ":   -1.32455267514387e-16X10\n",
       ":   6.63988235739017e-17X11\n",
       ":   -1.54276262817464e-16X12\n",
       ":   -1.44026272542058e-16X13\n",
       ":   -7.30124568260633e-17X14\n",
       ":   1.14257789998301e-16X15\n",
       ":   1.37259995036665e-16X16\n",
       ":   2.67056114064851e-17X17\n",
       ":   1.3192172591898e-16X18\n",
       ":   1.67423640740656e-16X19\n",
       ":   1.83932045398554e-16X20\n",
       ":   2.57004418660465e-16X21\n",
       ":   1.82054663741987e-16X22\n",
       ":   -3.62494436879693e-17X23\n",
       ":   1.99264946648388e-16X24\n",
       ":   -1.2074017772432e-16X25\n",
       ":   -8.26846814700787e-18X26\n",
       ":   1.22252354438576e-16X27\n",
       ":   3.78272431652969e-17X28\n",
       ":   4.00983614002928e-17X29\n",
       ":   9.48534242744226e-17X30\n",
       ":   9.81260029371618e-17X31\n",
       ":   -9.82287168271867e-17X32\n",
       ":   6.02588154812996e-18X33\n",
       ":   -2.15699169052379e-18X34\n",
       ":   1.84713812228188e-17X35\n",
       ":   -7.33548364594798e-17X36\n",
       ":   -4.96450468453889e-18X37\n",
       ":   1.2091422070464e-16X38\n",
       ":   1.80776446443899e-17X39\n",
       ":   9.45138978046179e-17\n",
       "\n"
      ],
      "text/plain": [
       "           X2            X3            X4            X5            X6 \n",
       " 5.682361e-17  2.657665e-16  1.266576e-16 -3.177283e-17 -1.707561e-16 \n",
       "           X7            X8            X9           X10           X11 \n",
       "-7.502394e-17  4.964505e-18 -1.324553e-16  6.639882e-17 -1.542763e-16 \n",
       "          X12           X13           X14           X15           X16 \n",
       "-1.440263e-16 -7.301246e-17  1.142578e-16  1.372600e-16  2.670561e-17 \n",
       "          X17           X18           X19           X20           X21 \n",
       " 1.319217e-16  1.674236e-16  1.839320e-16  2.570044e-16  1.820547e-16 \n",
       "          X22           X23           X24           X25           X26 \n",
       "-3.624944e-17  1.992649e-16 -1.207402e-16 -8.268468e-18  1.222524e-16 \n",
       "          X27           X28           X29           X30           X31 \n",
       " 3.782724e-17  4.009836e-17  9.485342e-17  9.812600e-17 -9.822872e-17 \n",
       "          X32           X33           X34           X35           X36 \n",
       " 6.025882e-18 -2.156992e-18  1.847138e-17 -7.335484e-17 -4.964505e-18 \n",
       "          X37           X38           X39 \n",
       " 1.209142e-16  1.807764e-17  9.451390e-17 "
      ]
     },
     "metadata": {},
     "output_type": "display_data"
    },
    {
     "data": {
      "text/html": [
       "<dl class=dl-horizontal>\n",
       "\t<dt>X2</dt>\n",
       "\t\t<dd>1</dd>\n",
       "\t<dt>X3</dt>\n",
       "\t\t<dd>1</dd>\n",
       "\t<dt>X4</dt>\n",
       "\t\t<dd>1</dd>\n",
       "\t<dt>X5</dt>\n",
       "\t\t<dd>1</dd>\n",
       "\t<dt>X6</dt>\n",
       "\t\t<dd>1</dd>\n",
       "\t<dt>X7</dt>\n",
       "\t\t<dd>1</dd>\n",
       "\t<dt>X8</dt>\n",
       "\t\t<dd>1</dd>\n",
       "\t<dt>X9</dt>\n",
       "\t\t<dd>1</dd>\n",
       "\t<dt>X10</dt>\n",
       "\t\t<dd>1</dd>\n",
       "\t<dt>X11</dt>\n",
       "\t\t<dd>1</dd>\n",
       "\t<dt>X12</dt>\n",
       "\t\t<dd>1</dd>\n",
       "\t<dt>X13</dt>\n",
       "\t\t<dd>1</dd>\n",
       "\t<dt>X14</dt>\n",
       "\t\t<dd>1</dd>\n",
       "\t<dt>X15</dt>\n",
       "\t\t<dd>1</dd>\n",
       "\t<dt>X16</dt>\n",
       "\t\t<dd>1</dd>\n",
       "\t<dt>X17</dt>\n",
       "\t\t<dd>1</dd>\n",
       "\t<dt>X18</dt>\n",
       "\t\t<dd>1</dd>\n",
       "\t<dt>X19</dt>\n",
       "\t\t<dd>1</dd>\n",
       "\t<dt>X20</dt>\n",
       "\t\t<dd>1</dd>\n",
       "\t<dt>X21</dt>\n",
       "\t\t<dd>1</dd>\n",
       "\t<dt>X22</dt>\n",
       "\t\t<dd>1</dd>\n",
       "\t<dt>X23</dt>\n",
       "\t\t<dd>1</dd>\n",
       "\t<dt>X24</dt>\n",
       "\t\t<dd>1</dd>\n",
       "\t<dt>X25</dt>\n",
       "\t\t<dd>1</dd>\n",
       "\t<dt>X26</dt>\n",
       "\t\t<dd>1</dd>\n",
       "\t<dt>X27</dt>\n",
       "\t\t<dd>1</dd>\n",
       "\t<dt>X28</dt>\n",
       "\t\t<dd>1</dd>\n",
       "\t<dt>X29</dt>\n",
       "\t\t<dd>1</dd>\n",
       "\t<dt>X30</dt>\n",
       "\t\t<dd>1</dd>\n",
       "\t<dt>X31</dt>\n",
       "\t\t<dd>1</dd>\n",
       "\t<dt>X32</dt>\n",
       "\t\t<dd>1</dd>\n",
       "\t<dt>X33</dt>\n",
       "\t\t<dd>1</dd>\n",
       "\t<dt>X34</dt>\n",
       "\t\t<dd>1</dd>\n",
       "\t<dt>X35</dt>\n",
       "\t\t<dd>1</dd>\n",
       "\t<dt>X36</dt>\n",
       "\t\t<dd>1</dd>\n",
       "\t<dt>X37</dt>\n",
       "\t\t<dd>1</dd>\n",
       "\t<dt>X38</dt>\n",
       "\t\t<dd>1</dd>\n",
       "\t<dt>X39</dt>\n",
       "\t\t<dd>1</dd>\n",
       "</dl>\n"
      ],
      "text/latex": [
       "\\begin{description*}\n",
       "\\item[X2] 1\n",
       "\\item[X3] 1\n",
       "\\item[X4] 1\n",
       "\\item[X5] 1\n",
       "\\item[X6] 1\n",
       "\\item[X7] 1\n",
       "\\item[X8] 1\n",
       "\\item[X9] 1\n",
       "\\item[X10] 1\n",
       "\\item[X11] 1\n",
       "\\item[X12] 1\n",
       "\\item[X13] 1\n",
       "\\item[X14] 1\n",
       "\\item[X15] 1\n",
       "\\item[X16] 1\n",
       "\\item[X17] 1\n",
       "\\item[X18] 1\n",
       "\\item[X19] 1\n",
       "\\item[X20] 1\n",
       "\\item[X21] 1\n",
       "\\item[X22] 1\n",
       "\\item[X23] 1\n",
       "\\item[X24] 1\n",
       "\\item[X25] 1\n",
       "\\item[X26] 1\n",
       "\\item[X27] 1\n",
       "\\item[X28] 1\n",
       "\\item[X29] 1\n",
       "\\item[X30] 1\n",
       "\\item[X31] 1\n",
       "\\item[X32] 1\n",
       "\\item[X33] 1\n",
       "\\item[X34] 1\n",
       "\\item[X35] 1\n",
       "\\item[X36] 1\n",
       "\\item[X37] 1\n",
       "\\item[X38] 1\n",
       "\\item[X39] 1\n",
       "\\end{description*}\n"
      ],
      "text/markdown": [
       "X2\n",
       ":   1X3\n",
       ":   1X4\n",
       ":   1X5\n",
       ":   1X6\n",
       ":   1X7\n",
       ":   1X8\n",
       ":   1X9\n",
       ":   1X10\n",
       ":   1X11\n",
       ":   1X12\n",
       ":   1X13\n",
       ":   1X14\n",
       ":   1X15\n",
       ":   1X16\n",
       ":   1X17\n",
       ":   1X18\n",
       ":   1X19\n",
       ":   1X20\n",
       ":   1X21\n",
       ":   1X22\n",
       ":   1X23\n",
       ":   1X24\n",
       ":   1X25\n",
       ":   1X26\n",
       ":   1X27\n",
       ":   1X28\n",
       ":   1X29\n",
       ":   1X30\n",
       ":   1X31\n",
       ":   1X32\n",
       ":   1X33\n",
       ":   1X34\n",
       ":   1X35\n",
       ":   1X36\n",
       ":   1X37\n",
       ":   1X38\n",
       ":   1X39\n",
       ":   1\n",
       "\n"
      ],
      "text/plain": [
       " X2  X3  X4  X5  X6  X7  X8  X9 X10 X11 X12 X13 X14 X15 X16 X17 X18 X19 X20 X21 \n",
       "  1   1   1   1   1   1   1   1   1   1   1   1   1   1   1   1   1   1   1   1 \n",
       "X22 X23 X24 X25 X26 X27 X28 X29 X30 X31 X32 X33 X34 X35 X36 X37 X38 X39 \n",
       "  1   1   1   1   1   1   1   1   1   1   1   1   1   1   1   1   1   1 "
      ]
     },
     "metadata": {},
     "output_type": "display_data"
    }
   ],
   "source": [
    "scaled.dat_HP <- scale(data_LP_HP)\n",
    "colMeans(scaled.dat_HP)\n",
    "apply(scaled.dat_HP, 2, sd);"
   ]
  },
  {
   "cell_type": "code",
   "execution_count": 14,
   "metadata": {},
   "outputs": [],
   "source": [
    "total_data_HP <- data.frame(cbind(scaled.dat_HP, sorted_data_LPHP[,40]))"
   ]
  },
  {
   "cell_type": "code",
   "execution_count": 15,
   "metadata": {},
   "outputs": [],
   "source": [
    "library(\"sensitivity\")"
   ]
  },
  {
   "cell_type": "code",
   "execution_count": 16,
   "metadata": {},
   "outputs": [],
   "source": [
    "coeff_pcc_HPLP <- pcc(total_data_HP[,1:38], total_data_HP[,39], nboot = 500, rank = TRUE, conf = 0.95)"
   ]
  },
  {
   "cell_type": "code",
   "execution_count": 17,
   "metadata": {},
   "outputs": [
    {
     "name": "stderr",
     "output_type": "stream",
     "text": [
      "Loading required package: survival\n",
      "Warning message:\n",
      "“package ‘survival’ was built under R version 3.3.2”\n",
      "Attaching package: ‘survival’\n",
      "\n",
      "The following object is masked from ‘package:robustbase’:\n",
      "\n",
      "    heart\n",
      "\n",
      "Package epiR 0.9-96 is loaded\n",
      "Type help(epi.about) for summary information\n",
      "\n",
      "\n"
     ]
    }
   ],
   "source": [
    "library(epiR)\n",
    "coeff_prcc_pHPLP <- epi.prcc(total_data_HP, sided.test = 2)\n"
   ]
  },
  {
   "cell_type": "markdown",
   "metadata": {},
   "source": [
    "### Saving the files obtained from PRCC and epi.prcc as Cellpopulation_prcc.csv and Cellpopulation_p.csv"
   ]
  },
  {
   "cell_type": "code",
   "execution_count": 18,
   "metadata": {},
   "outputs": [],
   "source": [
    "write.csv(coeff_pcc_HPLP$PRCC, \"/Volumes/Computer Backup/NIMML/Project_NameENISIMSM/data/Fig3-data/HP_LP/HPLP_prcc.csv\")\n",
    "write.csv(coeff_prcc_pHPLP, \"/Volumes/Computer Backup/NIMML/Project_NameENISIMSM/data/Fig3-data/HP_LP/HPLP_p.csv\")"
   ]
  },
  {
   "cell_type": "markdown",
   "metadata": {},
   "source": [
    "### Conduct similar analysis for Mres outut cell population. \n",
    "We conducted the above analysis for Mres_LP (resident macrophages in Lamina propria) and saved the results obatined from pcc and epi.prcc in Mres_prcc.csv and Mres_p.csv respectively. "
   ]
  },
  {
   "cell_type": "markdown",
   "metadata": {},
   "source": [
    "### Reading the Mres_LP files in the workspace."
   ]
  },
  {
   "cell_type": "code",
   "execution_count": 19,
   "metadata": {},
   "outputs": [],
   "source": [
    "coeff_pcc_Mres <- read.csv(\"/Volumes/Computer Backup/NIMML/Project_NameENISIMSM/data/Fig3-data/Mres_prcc.csv\")\n",
    "p_values_Mres <- read.csv(\"/Volumes/Computer Backup/NIMML/Project_NameENISIMSM/data/Fig3-data/Mres_p.csv\")\n"
   ]
  },
  {
   "cell_type": "code",
   "execution_count": 20,
   "metadata": {},
   "outputs": [],
   "source": [
    "cols_HPLP <- c(\"gray\", \"blue\")[(coeff_prcc_pHPLP$p.value < 0.05)+1]\n",
    "cols_MresLP <- c(\"gray\", \"blue\")[(p_values_Mres$p.value < 0.05)+1]"
   ]
  },
  {
   "cell_type": "markdown",
   "metadata": {},
   "source": [
    "## Plotting the bargaphs as shown in the paper"
   ]
  },
  {
   "cell_type": "code",
   "execution_count": 23,
   "metadata": {},
   "outputs": [
    {
     "data": {
      "image/png": "[encoded data removed]",
      "text/plain": [
       "Plot with title “Resident macrophages in \n",
       " Lamina propria”"
      ]
     },
     "metadata": {},
     "output_type": "display_data"
    }
   ],
   "source": [
    "par(mar=c(1,5,7,2), las=1, mgp=c(3.5,0,0), mfrow=c(1,2)) \n",
    "label <- c(\"p_epiinfbctdam\", \"p_epiTh1dam\", \"p_epiTh17dam\", \"p_Epiprolifer.\",\"p_Epicelldeath\",\n",
    "           \"p_EpiIL10h\",\"p_nTrep\",\"p_nTdeath\",\"p_allTrep\",\"p_iTregtoTh17\",\"p_Th17toiTreg\",\"p_nTtoTr\",\n",
    "           \"p_nTtoiTreg\", \"p_nTtoTh17\",\"p_Th1death\",\"p_Th17death\",\"p_iTregdeath\",\"p_Trdeath\", \n",
    "           \"p_IL10Tr\",\"dummy\",\"p_Bactkill\",\"p_Bactdeath\", \"p_HPdeath-Tcells\",\"p_HPdeath\",\"p_DCdeath\",\n",
    "           \"p_Monocytedeath\",\"p_Resmacdeath\",\"p_TrmacKill\",\"p_MregDiff\",\"p_ResmMacrep\",\n",
    "           \"p_Monorep\",\"p_IFNg\",\"p_IL10\",\"p_IL17\",\"p_IL21\",\"p_IL6\",\"p_TGFb\",\"p_IL12\")\n",
    "#\n",
    "barplot(coeff_pcc_HPLP$PRCC$original, horiz=TRUE, col=cols_HPLP, names.arg = label, cex.names = 0.6,cex.lab = 0.9, cex.main = 0.65, cex.axis = 0.65,\n",
    "        xlim = c(-0.4, 0.4), ylim = c(0,40), ylab = 'Parameters')\n",
    "title(\"Helicobacter pylori in \\n Lamina propria\", line = 5.5, cex.main = 0.7)\n",
    "\n",
    "barplot(coeff_pcc_Mres$original, horiz=TRUE, col=cols_MresLP, names.arg = label, cex.names = 0.6,cex.lab = 0.9, cex.main = 0.65, cex.axis = 0.65,\n",
    "        xlim = c(-0.4, 0.4), ylim = c(0,40))\n",
    "title(\"Resident macrophages in \\n Lamina propria\", line = 5.5, cex.main = 0.7)\n"
   ]
  },
  {
   "cell_type": "code",
   "execution_count": null,
   "metadata": {},
   "outputs": [],
   "source": []
  }
 ],
 "metadata": {
  "kernelspec": {
   "display_name": "R",
   "language": "R",
   "name": "ir"
  },
  "language_info": {
   "codemirror_mode": "r",
   "file_extension": ".r",
   "mimetype": "text/x-r-source",
   "name": "R",
   "pygments_lexer": "r",
   "version": "3.3.1"
  }
 },
 "nbformat": 4,
 "nbformat_minor": 2
}
